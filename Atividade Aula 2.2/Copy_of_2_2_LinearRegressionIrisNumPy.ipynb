{
  "cells": [
    {
      "cell_type": "markdown",
      "metadata": {
        "id": "5yQgzdjbf9RT"
      },
      "source": [
        "# Regressão Linear com NumPy"
      ]
    },
    {
      "cell_type": "markdown",
      "metadata": {
        "heading_collapsed": true,
        "id": "p5HfrYM3f9RU"
      },
      "source": [
        "## Objetivos deste experimento"
      ]
    },
    {
      "cell_type": "markdown",
      "metadata": {
        "hidden": true,
        "id": "IIYC2db7f9RW"
      },
      "source": [
        "Este exemplo utiliza regressão linear para estimar o comprimento das sépalas da íris a partir do seu comprimento das pétalas.\n",
        "Utiliza-se programação totalmente NumPy com:\n",
        "- o **cálculo do gradiente**,\n",
        "- a **função de perda** e\n",
        "- a atualização dos parâmetros são feitos de forma explícita.\n",
        "- A rede é criada com uma camada como uma classe"
      ]
    },
    {
      "cell_type": "markdown",
      "metadata": {
        "hidden": true,
        "id": "ImJOZIiNf9RW"
      },
      "source": [
        "![alt text](https://raw.githubusercontent.com/vcasadei/images/master/RegressaoLinear_Otimizacao.png)"
      ]
    },
    {
      "cell_type": "markdown",
      "metadata": {
        "heading_collapsed": true,
        "id": "EeTHWCuMf9RX"
      },
      "source": [
        "## Importação dos pacotes"
      ]
    },
    {
      "cell_type": "code",
      "execution_count": 1,
      "metadata": {
        "ExecuteTime": {
          "end_time": "2017-10-08T11:19:38.728936Z",
          "start_time": "2017-10-08T11:19:36.888541Z"
        },
        "hidden": true,
        "id": "5yPytaCLf9RY"
      },
      "outputs": [],
      "source": [
        "%matplotlib inline\n",
        "import matplotlib.pyplot as plt   # para plotting\n",
        "\n",
        "from sklearn.datasets import load_iris  # para carregar dataset\n",
        "\n",
        "import numpy as np  # processamento matricial\n",
        "\n",
        "np.random.seed(1234)"
      ]
    },
    {
      "cell_type": "markdown",
      "metadata": {
        "heading_collapsed": true,
        "id": "wDkSLSnmf9Rc"
      },
      "source": [
        "## Dataset"
      ]
    },
    {
      "cell_type": "markdown",
      "metadata": {
        "heading_collapsed": true,
        "hidden": true,
        "id": "ldcOnrBvf9Rd"
      },
      "source": [
        "### Leitura dos dados"
      ]
    },
    {
      "cell_type": "code",
      "execution_count": 2,
      "metadata": {
        "ExecuteTime": {
          "end_time": "2017-10-08T11:19:38.747769Z",
          "start_time": "2017-10-08T11:19:38.730907Z"
        },
        "colab": {
          "base_uri": "https://localhost:8080/"
        },
        "hidden": true,
        "id": "l3t1qaa0f9Re",
        "outputId": "f46557df-ebb2-49a7-e565-33842164d759"
      },
      "outputs": [
        {
          "output_type": "stream",
          "name": "stdout",
          "text": [
            "x_train.shape: (50, 1) float64\n",
            "y_train.shape: (50, 1) float64\n",
            "x_train[:5]:\n",
            " [[7. ]\n",
            " [6.4]\n",
            " [6.9]\n",
            " [5.5]\n",
            " [6.5]]\n",
            "y_train[:5]:\n",
            " [[4.7]\n",
            " [4.5]\n",
            " [4.9]\n",
            " [4. ]\n",
            " [4.6]]\n"
          ]
        }
      ],
      "source": [
        "iris = load_iris()\n",
        "data = iris.data[iris.target==1,::2]  # comprimento das sépalas e pétalas, indices 0 e 2\n",
        "\n",
        "x_train = data[:,0:1]\n",
        "y_train = data[:,1:2]\n",
        "\n",
        "n_samples = x_train.shape[0]\n",
        "print('x_train.shape:',x_train.shape, x_train.dtype)\n",
        "print('y_train.shape:',y_train.shape, y_train.dtype)\n",
        "\n",
        "print('x_train[:5]:\\n', x_train[:5])\n",
        "print('y_train[:5]:\\n', y_train[:5])"
      ]
    },
    {
      "cell_type": "markdown",
      "metadata": {
        "hidden": true,
        "id": "aPQ-L6FVf9Rk"
      },
      "source": [
        "### Normalização dos dados"
      ]
    },
    {
      "cell_type": "code",
      "execution_count": 3,
      "metadata": {
        "ExecuteTime": {
          "end_time": "2017-10-08T11:19:38.756343Z",
          "start_time": "2017-10-08T11:19:38.750395Z"
        },
        "hidden": true,
        "id": "POM323GEf9Rl"
      },
      "outputs": [],
      "source": [
        "x_train -= x_train.min()\n",
        "x_train /= x_train.max()\n",
        "y_train -= y_train.min()\n",
        "y_train /= y_train.max()"
      ]
    },
    {
      "cell_type": "code",
      "execution_count": 4,
      "metadata": {
        "ExecuteTime": {
          "end_time": "2017-10-08T11:19:39.127199Z",
          "start_time": "2017-10-08T11:19:38.759104Z"
        },
        "colab": {
          "base_uri": "https://localhost:8080/",
          "height": 466
        },
        "hidden": true,
        "id": "dx5AO9Qxf9Rn",
        "outputId": "a821b0d4-a97d-421f-8f60-6f4853235eb7"
      },
      "outputs": [
        {
          "output_type": "execute_result",
          "data": {
            "text/plain": [
              "Text(0, 0.5, 'Comprimento petalas')"
            ]
          },
          "metadata": {},
          "execution_count": 4
        },
        {
          "output_type": "display_data",
          "data": {
            "text/plain": [
              "<Figure size 640x480 with 1 Axes>"
            ],
            "image/png": "[encoded data removed]"
          },
          "metadata": {}
        }
      ],
      "source": [
        "plt.scatter(x_train,y_train)\n",
        "plt.xlabel('Comprimento sepalas')\n",
        "plt.ylabel('Comprimento petalas')"
      ]
    },
    {
      "cell_type": "markdown",
      "metadata": {
        "heading_collapsed": true,
        "id": "poW81teqf9Rr"
      },
      "source": [
        "## Modelo da rede"
      ]
    },
    {
      "cell_type": "markdown",
      "metadata": {
        "hidden": true,
        "id": "QXFLlJ0_f9Rt"
      },
      "source": [
        "### Reta de ajuste"
      ]
    },
    {
      "cell_type": "markdown",
      "metadata": {
        "hidden": true,
        "id": "s7JuPXysf9Rt"
      },
      "source": [
        "A equação da reta no plano necessita de dois parâmetros, aqui denominados $w_0$ (*bias*) e inclinação $w_1$. Veja figura:\n",
        "\n",
        "![alt text](https://raw.githubusercontent.com/vcasadei/images/master/linhareta.png)\n",
        "\n",
        "A reta de ajuste será dada por:\n",
        "\n",
        "$$ \\hat{y} = w_0 + w_1 x $$\n",
        "\n",
        "onde\n",
        "* $w_1$ é o coeficiente angular da reta e\n",
        "* $w_0$ é a interseção do eixo vertical quando x é igual a zero, também denominado de *bias*.\n",
        "* $x$ é a variável de entrada (comprimento das sépalas) e\n",
        "* $\\hat{y}$ é a predição (comprimento estimado das pétalas)."
      ]
    },
    {
      "cell_type": "markdown",
      "metadata": {
        "hidden": true,
        "id": "hwin_xPff9Ru"
      },
      "source": [
        "### Linear Regression Model"
      ]
    },
    {
      "cell_type": "markdown",
      "metadata": {
        "hidden": true,
        "id": "c7ilOLnkf9Rw"
      },
      "source": [
        "![alt text](https://raw.githubusercontent.com/vcasadei/images/master/RegressaoLinearNeuronio.png)"
      ]
    },
    {
      "cell_type": "markdown",
      "metadata": {
        "hidden": true,
        "id": "H0CzMB91f9Rx"
      },
      "source": [
        "### Formulação matricial do neurônio"
      ]
    },
    {
      "cell_type": "markdown",
      "metadata": {
        "hidden": true,
        "id": "-wWz_wpYf9Ry"
      },
      "source": [
        "* $\\mathbf{w} = [w_0 \\ w_1]$ é vetor linha de parâmetros e\n",
        "* $\\mathbf{x} = [1 \\ x_0] $ é vetor linha de uma amostra (com *bias*).\n",
        "\n",
        "$$ \\hat{y} = 1 w_0 + x_0 w_1 $$\n",
        "\n",
        "$$ [\\hat{y}] = [1 \\ x_0] \\begin{bmatrix} w_0 \\\\ w_1 \\end{bmatrix} $$\n",
        "\n",
        "$$ \\mathbf{\\hat{y}} = \\mathbf{x} \\mathbf{w^T} $$"
      ]
    },
    {
      "cell_type": "markdown",
      "metadata": {
        "hidden": true,
        "id": "rQ1lc-dYf9Rz"
      },
      "source": [
        "### Fazendo o predict de várias amostras"
      ]
    },
    {
      "cell_type": "markdown",
      "metadata": {
        "hidden": true,
        "id": "fh068Clrf9R0"
      },
      "source": [
        "$$ \\begin{matrix}\n",
        "\\begin{bmatrix}\n",
        "\\hat{y}_0\\\\\n",
        "\\hat{y}_1\\\\\n",
        "\\\\\n",
        "\\hat{y}_{M-1}\n",
        "\\end{bmatrix} &=& \\begin{bmatrix}\n",
        "1 & x_0 \\\\\n",
        "1 & x_1\\\\\n",
        "\\\\\n",
        "1 & x_{M-1} \\\\\n",
        "\\end{bmatrix}\n",
        "&\n",
        "\\begin{bmatrix}\n",
        "w_0\\\\\n",
        "w_1\n",
        "\\end{bmatrix} \\\\\n",
        "(M,1) & & (M,2) & (2,1) \\\\\n",
        "\\end{matrix} $$"
      ]
    },
    {
      "cell_type": "markdown",
      "metadata": {
        "hidden": true,
        "id": "jjSchAsZf9R2"
      },
      "source": [
        "### Preenchendo x com coluna de 1's para bias"
      ]
    },
    {
      "cell_type": "code",
      "source": [
        "x_train"
      ],
      "metadata": {
        "colab": {
          "base_uri": "https://localhost:8080/"
        },
        "id": "5fJtuVzp9rw1",
        "outputId": "0cd98902-1536-4662-cd4b-f5d459328ddd"
      },
      "execution_count": 5,
      "outputs": [
        {
          "output_type": "execute_result",
          "data": {
            "text/plain": [
              "array([[1.        ],\n",
              "       [0.71428571],\n",
              "       [0.95238095],\n",
              "       [0.28571429],\n",
              "       [0.76190476],\n",
              "       [0.38095238],\n",
              "       [0.66666667],\n",
              "       [0.        ],\n",
              "       [0.80952381],\n",
              "       [0.14285714],\n",
              "       [0.04761905],\n",
              "       [0.47619048],\n",
              "       [0.52380952],\n",
              "       [0.57142857],\n",
              "       [0.33333333],\n",
              "       [0.85714286],\n",
              "       [0.33333333],\n",
              "       [0.42857143],\n",
              "       [0.61904762],\n",
              "       [0.33333333],\n",
              "       [0.47619048],\n",
              "       [0.57142857],\n",
              "       [0.66666667],\n",
              "       [0.57142857],\n",
              "       [0.71428571],\n",
              "       [0.80952381],\n",
              "       [0.9047619 ],\n",
              "       [0.85714286],\n",
              "       [0.52380952],\n",
              "       [0.38095238],\n",
              "       [0.28571429],\n",
              "       [0.28571429],\n",
              "       [0.42857143],\n",
              "       [0.52380952],\n",
              "       [0.23809524],\n",
              "       [0.52380952],\n",
              "       [0.85714286],\n",
              "       [0.66666667],\n",
              "       [0.33333333],\n",
              "       [0.28571429],\n",
              "       [0.28571429],\n",
              "       [0.57142857],\n",
              "       [0.42857143],\n",
              "       [0.04761905],\n",
              "       [0.33333333],\n",
              "       [0.38095238],\n",
              "       [0.38095238],\n",
              "       [0.61904762],\n",
              "       [0.0952381 ],\n",
              "       [0.38095238]])"
            ]
          },
          "metadata": {},
          "execution_count": 5
        }
      ]
    },
    {
      "cell_type": "code",
      "execution_count": 6,
      "metadata": {
        "ExecuteTime": {
          "end_time": "2017-10-08T11:19:39.135089Z",
          "start_time": "2017-10-08T11:19:39.129385Z"
        },
        "hidden": true,
        "id": "plZEY5-tf9R2"
      },
      "outputs": [],
      "source": [
        "x_train_bias = np.hstack([np.ones(shape=(n_samples,1)), x_train])"
      ]
    },
    {
      "cell_type": "code",
      "execution_count": 7,
      "metadata": {
        "colab": {
          "base_uri": "https://localhost:8080/"
        },
        "id": "tXYx3JdMf9R6",
        "outputId": "76840b7b-2d68-421f-8264-0dd29f93d23e"
      },
      "outputs": [
        {
          "output_type": "execute_result",
          "data": {
            "text/plain": [
              "array([[1.        , 1.        ],\n",
              "       [1.        , 0.71428571],\n",
              "       [1.        , 0.95238095],\n",
              "       [1.        , 0.28571429],\n",
              "       [1.        , 0.76190476],\n",
              "       [1.        , 0.38095238],\n",
              "       [1.        , 0.66666667],\n",
              "       [1.        , 0.        ],\n",
              "       [1.        , 0.80952381],\n",
              "       [1.        , 0.14285714],\n",
              "       [1.        , 0.04761905],\n",
              "       [1.        , 0.47619048],\n",
              "       [1.        , 0.52380952],\n",
              "       [1.        , 0.57142857],\n",
              "       [1.        , 0.33333333],\n",
              "       [1.        , 0.85714286],\n",
              "       [1.        , 0.33333333],\n",
              "       [1.        , 0.42857143],\n",
              "       [1.        , 0.61904762],\n",
              "       [1.        , 0.33333333],\n",
              "       [1.        , 0.47619048],\n",
              "       [1.        , 0.57142857],\n",
              "       [1.        , 0.66666667],\n",
              "       [1.        , 0.57142857],\n",
              "       [1.        , 0.71428571],\n",
              "       [1.        , 0.80952381],\n",
              "       [1.        , 0.9047619 ],\n",
              "       [1.        , 0.85714286],\n",
              "       [1.        , 0.52380952],\n",
              "       [1.        , 0.38095238],\n",
              "       [1.        , 0.28571429],\n",
              "       [1.        , 0.28571429],\n",
              "       [1.        , 0.42857143],\n",
              "       [1.        , 0.52380952],\n",
              "       [1.        , 0.23809524],\n",
              "       [1.        , 0.52380952],\n",
              "       [1.        , 0.85714286],\n",
              "       [1.        , 0.66666667],\n",
              "       [1.        , 0.33333333],\n",
              "       [1.        , 0.28571429],\n",
              "       [1.        , 0.28571429],\n",
              "       [1.        , 0.57142857],\n",
              "       [1.        , 0.42857143],\n",
              "       [1.        , 0.04761905],\n",
              "       [1.        , 0.33333333],\n",
              "       [1.        , 0.38095238],\n",
              "       [1.        , 0.38095238],\n",
              "       [1.        , 0.61904762],\n",
              "       [1.        , 0.0952381 ],\n",
              "       [1.        , 0.38095238]])"
            ]
          },
          "metadata": {},
          "execution_count": 7
        }
      ],
      "source": [
        "x_train_bias"
      ]
    },
    {
      "cell_type": "markdown",
      "metadata": {
        "hidden": true,
        "id": "GOtS_8OSf9SC"
      },
      "source": [
        "### Classe com o modelo da rede"
      ]
    },
    {
      "cell_type": "code",
      "execution_count": 43,
      "metadata": {
        "ExecuteTime": {
          "end_time": "2017-10-08T11:19:39.143879Z",
          "start_time": "2017-10-08T11:19:39.137134Z"
        },
        "hidden": true,
        "id": "aKLVIQUtf9SD"
      },
      "outputs": [],
      "source": [
        "class Net():\n",
        "    def __init__(self, n_in, n_out):\n",
        "        self.w = np.random.uniform(-0.1,0.1,(n_out,n_in)) #inicialização dos parâmetros\n",
        "\n",
        "    def forward(self, x_bias):\n",
        "        return x_bias.dot(self.w.T)"
      ]
    },
    {
      "cell_type": "markdown",
      "metadata": {
        "hidden": true,
        "id": "0j0hN9l_f9SH"
      },
      "source": [
        "### Criando a rede, instanciando o objeto model"
      ]
    },
    {
      "cell_type": "code",
      "execution_count": 44,
      "metadata": {
        "ExecuteTime": {
          "end_time": "2017-10-08T11:19:39.151717Z",
          "start_time": "2017-10-08T11:19:39.146858Z"
        },
        "hidden": true,
        "id": "5o5Zkqn5f9SI"
      },
      "outputs": [],
      "source": [
        "model = Net(2,1) # duas entradas (1 + x0) e uma saída y_pred"
      ]
    },
    {
      "cell_type": "code",
      "source": [
        "model.w"
      ],
      "metadata": {
        "colab": {
          "base_uri": "https://localhost:8080/"
        },
        "id": "c3hywn2r_Lol",
        "outputId": "c85c3059-d177-4b0f-bd59-b5b4f7096166"
      },
      "execution_count": 23,
      "outputs": [
        {
          "output_type": "execute_result",
          "data": {
            "text/plain": [
              "array([[-0.09724631,  0.05456532]])"
            ]
          },
          "metadata": {},
          "execution_count": 23
        }
      ]
    },
    {
      "cell_type": "code",
      "source": [
        "model.forward(x_train_bias)"
      ],
      "metadata": {
        "colab": {
          "base_uri": "https://localhost:8080/"
        },
        "id": "kqaMJ76l_h-s",
        "outputId": "91714303-0c02-4467-9b06-e66db32dce89"
      },
      "execution_count": 24,
      "outputs": [
        {
          "output_type": "execute_result",
          "data": {
            "text/plain": [
              "array([[-0.04268099],\n",
              "       [-0.05827108],\n",
              "       [-0.04527933],\n",
              "       [-0.08165622],\n",
              "       [-0.05567273],\n",
              "       [-0.07645952],\n",
              "       [-0.06086943],\n",
              "       [-0.09724631],\n",
              "       [-0.05307438],\n",
              "       [-0.08945126],\n",
              "       [-0.09464796],\n",
              "       [-0.07126282],\n",
              "       [-0.06866447],\n",
              "       [-0.06606612],\n",
              "       [-0.07905787],\n",
              "       [-0.05047603],\n",
              "       [-0.07905787],\n",
              "       [-0.07386117],\n",
              "       [-0.06346778],\n",
              "       [-0.07905787],\n",
              "       [-0.07126282],\n",
              "       [-0.06606612],\n",
              "       [-0.06086943],\n",
              "       [-0.06606612],\n",
              "       [-0.05827108],\n",
              "       [-0.05307438],\n",
              "       [-0.04787768],\n",
              "       [-0.05047603],\n",
              "       [-0.06866447],\n",
              "       [-0.07645952],\n",
              "       [-0.08165622],\n",
              "       [-0.08165622],\n",
              "       [-0.07386117],\n",
              "       [-0.06866447],\n",
              "       [-0.08425457],\n",
              "       [-0.06866447],\n",
              "       [-0.05047603],\n",
              "       [-0.06086943],\n",
              "       [-0.07905787],\n",
              "       [-0.08165622],\n",
              "       [-0.08165622],\n",
              "       [-0.06606612],\n",
              "       [-0.07386117],\n",
              "       [-0.09464796],\n",
              "       [-0.07905787],\n",
              "       [-0.07645952],\n",
              "       [-0.07645952],\n",
              "       [-0.06346778],\n",
              "       [-0.09204961],\n",
              "       [-0.07645952]])"
            ]
          },
          "metadata": {},
          "execution_count": 24
        }
      ]
    },
    {
      "cell_type": "markdown",
      "metadata": {
        "hidden": true,
        "id": "F3yolUOGf9SL"
      },
      "source": [
        "### Testando o predict da rede (mesmo sem treiná-la)"
      ]
    },
    {
      "cell_type": "code",
      "execution_count": 18,
      "metadata": {
        "ExecuteTime": {
          "end_time": "2017-10-08T11:19:39.162189Z",
          "start_time": "2017-10-08T11:19:39.156018Z"
        },
        "colab": {
          "base_uri": "https://localhost:8080/"
        },
        "hidden": true,
        "id": "BzkEurfof9SN",
        "outputId": "ed97ecec-c43e-421d-f9fc-8d56aca3c9b4"
      },
      "outputs": [
        {
          "output_type": "execute_result",
          "data": {
            "text/plain": [
              "array([[0.07708282],\n",
              "       [0.10287955],\n",
              "       [0.01928126],\n",
              "       [0.1453112 ]])"
            ]
          },
          "metadata": {},
          "execution_count": 18
        }
      ],
      "source": [
        "\n",
        "\n",
        "xin = np.random.randn(4,2) # 4 amostras, 2 entradas (1 + x0)\n",
        "ypred = model.forward(xin)\n",
        "ypred"
      ]
    },
    {
      "cell_type": "markdown",
      "metadata": {
        "heading_collapsed": true,
        "id": "edoSiy--f9SS"
      },
      "source": [
        "## Treinamento via gradiente descendente"
      ]
    },
    {
      "cell_type": "markdown",
      "metadata": {
        "hidden": true,
        "id": "SnkXXFref9ST"
      },
      "source": [
        "Função de perda:\n",
        "$$ J(\\hat{y_i},y_i) = \\frac{1}{M} \\sum_{i=0}^{M-1} (\\hat{y_i} - y_i)^2 $$"
      ]
    },
    {
      "cell_type": "markdown",
      "metadata": {
        "ExecuteTime": {
          "end_time": "2017-10-05T14:05:06.244776",
          "start_time": "2017-10-05T14:05:06.240743"
        },
        "hidden": true,
        "id": "6W5QcPwUf9SU"
      },
      "source": [
        "Gradiente:\n",
        "$$  \\mathbf{\\nabla{J_w}} = \\frac{2}{M}\\mathbf{x^T}(\\mathbf{x w^T} - \\mathbf{y}) $$"
      ]
    },
    {
      "cell_type": "markdown",
      "metadata": {
        "ExecuteTime": {
          "end_time": "2017-10-05T14:06:17.929718",
          "start_time": "2017-10-05T14:06:17.925519"
        },
        "hidden": true,
        "id": "6OoQuuvAf9SU"
      },
      "source": [
        "Atualização dos parâmetros pelo gradiente descendente:\n",
        "$$ \\mathbf{w} = \\mathbf{w} − \\eta (\\mathbf{\\nabla J_w})^T $$"
      ]
    },
    {
      "cell_type": "markdown",
      "metadata": {
        "hidden": true,
        "id": "YM0fEnAdf9SW"
      },
      "source": [
        "### Laço de treinamento"
      ]
    },
    {
      "cell_type": "code",
      "source": [
        "W = [[ 0.07652824 -0.0270228 ]]\n",
        "\n",
        "J = 0.339467632063133\n",
        "Grad = [[-1.07360602][-0.61413351]]\n",
        "\n",
        "W_upd = [[0.61333125 0.28004395]]\n",
        "Epoch[1/100], loss: 0.339468"
      ],
      "metadata": {
        "id": "FgFPk3l9BFMg"
      },
      "execution_count": null,
      "outputs": []
    },
    {
      "cell_type": "code",
      "source": [
        "# grad = [[-1.07360602] [-0.61413351]]\n",
        "lr = 0.5\n",
        "# w = [[ 0.07652824 -0.0270228 ]]\n",
        "#model.w - learning_rate * w_grad.T\n",
        "aux = lr*-1.07360602\n",
        "aux2 = lr*-0.61413351\n",
        "print(aux, aux2)"
      ],
      "metadata": {
        "colab": {
          "base_uri": "https://localhost:8080/"
        },
        "id": "Y0dk-pyzBgSF",
        "outputId": "5e65f4a6-1d9c-451d-9c10-c349a3e58a3f"
      },
      "execution_count": 34,
      "outputs": [
        {
          "output_type": "stream",
          "name": "stdout",
          "text": [
            "-0.53680301 -0.307066755\n"
          ]
        }
      ]
    },
    {
      "cell_type": "code",
      "source": [
        "w0 = 0.07652824 - (-0.53680301)\n",
        "w1 = -0.0270228 - (-0.307066755)\n",
        "print(w0, w1)"
      ],
      "metadata": {
        "colab": {
          "base_uri": "https://localhost:8080/"
        },
        "id": "lA8QqCIMCLGY",
        "outputId": "efb92381-b860-45db-c403-2335c42b8f17"
      },
      "execution_count": 35,
      "outputs": [
        {
          "output_type": "stream",
          "name": "stdout",
          "text": [
            "0.61333125 0.280043955\n"
          ]
        }
      ]
    },
    {
      "cell_type": "code",
      "execution_count": 45,
      "metadata": {
        "ExecuteTime": {
          "end_time": "2017-10-08T11:19:39.183784Z",
          "start_time": "2017-10-08T11:19:39.165347Z"
        },
        "colab": {
          "base_uri": "https://localhost:8080/"
        },
        "hidden": true,
        "id": "BiCGgqp6f9SX",
        "outputId": "a568a7f8-a630-43f4-adbc-4fd6839e7417",
        "scrolled": false
      },
      "outputs": [
        {
          "output_type": "stream",
          "name": "stdout",
          "text": [
            "Epoch[1/100], loss: 0.439334\n",
            "Epoch[2/100], loss: 0.061612\n",
            "Epoch[3/100], loss: 0.035757\n",
            "Epoch[4/100], loss: 0.032970\n",
            "Epoch[5/100], loss: 0.031789\n",
            "Epoch[6/100], loss: 0.030804\n",
            "Epoch[7/100], loss: 0.029917\n",
            "Epoch[8/100], loss: 0.029111\n",
            "Epoch[9/100], loss: 0.028380\n",
            "Epoch[10/100], loss: 0.027716\n",
            "Epoch[11/100], loss: 0.027113\n",
            "Epoch[12/100], loss: 0.026565\n",
            "Epoch[13/100], loss: 0.026068\n",
            "Epoch[14/100], loss: 0.025617\n",
            "Epoch[15/100], loss: 0.025208\n",
            "Epoch[16/100], loss: 0.024836\n",
            "Epoch[17/100], loss: 0.024498\n",
            "Epoch[18/100], loss: 0.024191\n",
            "Epoch[19/100], loss: 0.023913\n",
            "Epoch[20/100], loss: 0.023660\n",
            "Epoch[21/100], loss: 0.023431\n",
            "Epoch[22/100], loss: 0.023223\n",
            "Epoch[23/100], loss: 0.023034\n",
            "Epoch[24/100], loss: 0.022862\n",
            "Epoch[25/100], loss: 0.022706\n",
            "Epoch[26/100], loss: 0.022565\n",
            "Epoch[27/100], loss: 0.022436\n",
            "Epoch[28/100], loss: 0.022319\n",
            "Epoch[29/100], loss: 0.022213\n",
            "Epoch[30/100], loss: 0.022117\n",
            "Epoch[31/100], loss: 0.022030\n",
            "Epoch[32/100], loss: 0.021951\n",
            "Epoch[33/100], loss: 0.021879\n",
            "Epoch[34/100], loss: 0.021813\n",
            "Epoch[35/100], loss: 0.021754\n",
            "Epoch[36/100], loss: 0.021700\n",
            "Epoch[37/100], loss: 0.021651\n",
            "Epoch[38/100], loss: 0.021607\n",
            "Epoch[39/100], loss: 0.021567\n",
            "Epoch[40/100], loss: 0.021530\n",
            "Epoch[41/100], loss: 0.021497\n",
            "Epoch[42/100], loss: 0.021467\n",
            "Epoch[43/100], loss: 0.021439\n",
            "Epoch[44/100], loss: 0.021415\n",
            "Epoch[45/100], loss: 0.021392\n",
            "Epoch[46/100], loss: 0.021371\n",
            "Epoch[47/100], loss: 0.021353\n",
            "Epoch[48/100], loss: 0.021336\n",
            "Epoch[49/100], loss: 0.021321\n",
            "Epoch[50/100], loss: 0.021307\n",
            "Epoch[51/100], loss: 0.021294\n",
            "Epoch[52/100], loss: 0.021283\n",
            "Epoch[53/100], loss: 0.021272\n",
            "Epoch[54/100], loss: 0.021263\n",
            "Epoch[55/100], loss: 0.021254\n",
            "Epoch[56/100], loss: 0.021246\n",
            "Epoch[57/100], loss: 0.021239\n",
            "Epoch[58/100], loss: 0.021233\n",
            "Epoch[59/100], loss: 0.021227\n",
            "Epoch[60/100], loss: 0.021222\n",
            "Epoch[61/100], loss: 0.021217\n",
            "Epoch[62/100], loss: 0.021212\n",
            "Epoch[63/100], loss: 0.021209\n",
            "Epoch[64/100], loss: 0.021205\n",
            "Epoch[65/100], loss: 0.021202\n",
            "Epoch[66/100], loss: 0.021199\n",
            "Epoch[67/100], loss: 0.021196\n",
            "Epoch[68/100], loss: 0.021194\n",
            "Epoch[69/100], loss: 0.021191\n",
            "Epoch[70/100], loss: 0.021189\n",
            "Epoch[71/100], loss: 0.021187\n",
            "Epoch[72/100], loss: 0.021186\n",
            "Epoch[73/100], loss: 0.021184\n",
            "Epoch[74/100], loss: 0.021183\n",
            "Epoch[75/100], loss: 0.021182\n",
            "Epoch[76/100], loss: 0.021181\n",
            "Epoch[77/100], loss: 0.021180\n",
            "Epoch[78/100], loss: 0.021179\n",
            "Epoch[79/100], loss: 0.021178\n",
            "Epoch[80/100], loss: 0.021177\n",
            "Epoch[81/100], loss: 0.021176\n",
            "Epoch[82/100], loss: 0.021176\n",
            "Epoch[83/100], loss: 0.021175\n",
            "Epoch[84/100], loss: 0.021175\n",
            "Epoch[85/100], loss: 0.021174\n",
            "Epoch[86/100], loss: 0.021174\n",
            "Epoch[87/100], loss: 0.021173\n",
            "Epoch[88/100], loss: 0.021173\n",
            "Epoch[89/100], loss: 0.021173\n",
            "Epoch[90/100], loss: 0.021172\n",
            "Epoch[91/100], loss: 0.021172\n",
            "Epoch[92/100], loss: 0.021172\n",
            "Epoch[93/100], loss: 0.021172\n",
            "Epoch[94/100], loss: 0.021171\n",
            "Epoch[95/100], loss: 0.021171\n",
            "Epoch[96/100], loss: 0.021171\n",
            "Epoch[97/100], loss: 0.021171\n",
            "Epoch[98/100], loss: 0.021171\n",
            "Epoch[99/100], loss: 0.021171\n",
            "Epoch[100/100], loss: 0.021171\n",
            "[0.4393344186360996, 0.061612089032982154, 0.0357568685460562, 0.03296956636202146, 0.03178859784518443, 0.03080444592816047, 0.029916677196164705, 0.02911104511732318, 0.028379634722774886, 0.027715587475628065, 0.027112697862724983, 0.026565333281144778, 0.026068379971275403, 0.02561719514729304, 0.025207563615796413, 0.024835658394969345, 0.02449800496098409, 0.02419144878726733, 0.023913125873341413, 0.023660435987905338, 0.023431018376178666, 0.023222729704554367, 0.023033624036508694, 0.02286193465269285, 0.022706057545360744, 0.022564536432929657, 0.022436049154672292, 0.022319395318432685, 0.022213485085964685, 0.02211732899112022, 0.02203002869576368, 0.021950768597049516, 0.021878808207654248, 0.02181347523777501, 0.021754159314263305, 0.021700306278215054, 0.02165141300774204, 0.021607022717556625, 0.02156672069145607, 0.021530130407837147, 0.021496910022043837, 0.021466749172684207, 0.021439366082079706, 0.02141450492375777, 0.021391933432393425, 0.021371440733870952, 0.021352835375192888, 0.021335943535830668, 0.021320607403806778, 0.021306683701336558, 0.021294042346255808, 0.02128256523672841, 0.021272145147880152, 0.02126268473005052, 0.021254095599303694, 0.021246297511701796, 0.021239217613626026, 0.021232789761141912, 0.02122695390204968, 0.021221655514846716, 0.021216845099360525, 0.021212477714293437, 0.021208512557358675, 0.021204912584085016, 0.021201644161728903, 0.0211986767550606, 0.021195982641088896, 0.021193536650059058, 0.021191315930304478, 0.02118929973475501, 0.021187469227107528, 0.021185807305847768, 0.021184298444479478, 0.02118292854646816, 0.0211816848135442, 0.021180555626135113, 0.02117953043480963, 0.021178599661719734, 0.021177754611119565, 0.021176987388125477, 0.021176290824958102, 0.021175658413977335, 0.02117508424688479, 0.02117456295952548, 0.02117408968177322, 0.021173659992031517, 0.021173269875924744, 0.021172915688793918, 0.021172594121646432, 0.021172302170241814, 0.02117203710702461, 0.021171796455642218, 0.02117157796780954, 0.021171379602304422, 0.0211711995058975, 0.021171035996038423, 0.02117088754513665, 0.021170752766289894, 0.021170630400327052, 0.02117051930404433]\n"
          ]
        }
      ],
      "source": [
        "num_epochs = 100\n",
        "learning_rate = 0.5\n",
        "for epoch in range(num_epochs):\n",
        "\n",
        "    # forward - predict\n",
        "    y_pred = model.forward(x_train_bias)\n",
        "\n",
        "    #loss cálculo da função de perda\n",
        "    loss = np.square(y_pred - y_train).mean()\n",
        "\n",
        "    # cálculo do gradiente pelas derivadas parciais\n",
        "    w_grad = (2.0/n_samples) * (x_train_bias.T).dot(x_train_bias.dot(model.w.T) - y_train)\n",
        "\n",
        "    # gradiente descendente\n",
        "    model.w = model.w - learning_rate * w_grad.T\n",
        "\n",
        "    # verbose\n",
        "    if (epoch+1) % 1 == 0:\n",
        "        print('Epoch[{}/{}], loss: {:.6f}'\n",
        "              .format(epoch+1, num_epochs, loss))"
      ]
    },
    {
      "cell_type": "markdown",
      "metadata": {
        "heading_collapsed": true,
        "id": "1QGlDZABf9Sd"
      },
      "source": [
        "## Avaliação"
      ]
    },
    {
      "cell_type": "markdown",
      "metadata": {
        "hidden": true,
        "id": "6TIimlCmf9Si"
      },
      "source": [
        "### Predict"
      ]
    },
    {
      "cell_type": "code",
      "source": [
        "model.w"
      ],
      "metadata": {
        "colab": {
          "base_uri": "https://localhost:8080/"
        },
        "id": "gfH9YPH8CfXP",
        "outputId": "f0bf968c-30a8-4545-9bb2-a123e8153eb8"
      },
      "execution_count": 36,
      "outputs": [
        {
          "output_type": "execute_result",
          "data": {
            "text/plain": [
              "array([[0.26335427, 0.6825824 ]])"
            ]
          },
          "metadata": {},
          "execution_count": 36
        }
      ]
    },
    {
      "cell_type": "code",
      "execution_count": 37,
      "metadata": {
        "ExecuteTime": {
          "end_time": "2017-10-08T11:19:39.408412Z",
          "start_time": "2017-10-08T11:19:39.186021Z"
        },
        "colab": {
          "base_uri": "https://localhost:8080/",
          "height": 447
        },
        "hidden": true,
        "id": "ToXwbrlsf9Sk",
        "outputId": "5ce60002-51cc-40fe-e7f3-fa94d9c94470"
      },
      "outputs": [
        {
          "output_type": "execute_result",
          "data": {
            "text/plain": [
              "[<matplotlib.lines.Line2D at 0x7b798a2fbaf0>]"
            ]
          },
          "metadata": {},
          "execution_count": 37
        },
        {
          "output_type": "display_data",
          "data": {
            "text/plain": [
              "<Figure size 640x480 with 1 Axes>"
            ],
            "image/png": "[encoded data removed]"
          },
          "metadata": {}
        }
      ],
      "source": [
        "y_pred = model.forward(x_train_bias)\n",
        "plt.plot(x_train, y_train, 'ro', label='Original data')\n",
        "plt.plot(x_train, y_pred, 'kx-', label='Fitting Line')"
      ]
    },
    {
      "cell_type": "markdown",
      "metadata": {
        "hidden": true,
        "id": "kQ1hGdItf9So"
      },
      "source": [
        "### Parâmetros treinados"
      ]
    },
    {
      "cell_type": "code",
      "execution_count": 38,
      "metadata": {
        "ExecuteTime": {
          "end_time": "2017-10-08T11:19:39.417569Z",
          "start_time": "2017-10-08T11:19:39.411060Z"
        },
        "colab": {
          "base_uri": "https://localhost:8080/"
        },
        "hidden": true,
        "id": "IcEOxTg9f9Sp",
        "outputId": "92336b0b-8831-4b9d-db8b-9d36042006a3"
      },
      "outputs": [
        {
          "output_type": "stream",
          "name": "stdout",
          "text": [
            "[[0.26335427 0.6825824 ]]\n"
          ]
        }
      ],
      "source": [
        "print(model.w)"
      ]
    },
    {
      "cell_type": "markdown",
      "metadata": {
        "hidden": true,
        "id": "73n0qSOMf9Sr"
      },
      "source": [
        "### Avaliação do modelo"
      ]
    },
    {
      "cell_type": "code",
      "execution_count": 39,
      "metadata": {
        "colab": {
          "base_uri": "https://localhost:8080/"
        },
        "hidden": true,
        "id": "dI2TE8W6f9Ss",
        "outputId": "6e74f56e-7ab0-4d16-a469-2e05f5864fea"
      },
      "outputs": [
        {
          "output_type": "execute_result",
          "data": {
            "text/plain": [
              "0.021170327842261517"
            ]
          },
          "metadata": {},
          "execution_count": 39
        }
      ],
      "source": [
        "loss = np.square(y_pred - y_train).mean()\n",
        "loss"
      ]
    },
    {
      "cell_type": "markdown",
      "metadata": {
        "hidden": true,
        "id": "cv6q3ElSf9Sv"
      },
      "source": [
        "### Valor ótimo, solução analítica"
      ]
    },
    {
      "cell_type": "markdown",
      "metadata": {
        "hidden": true,
        "id": "qYgHOaNmf9Sv"
      },
      "source": [
        "$$  \\mathbf{w} =(\\mathbf{x^T} \\mathbf{x})^{−1}\\mathbf{x^T} \\mathbf{y} $$"
      ]
    },
    {
      "cell_type": "code",
      "execution_count": 40,
      "metadata": {
        "ExecuteTime": {
          "end_time": "2017-10-08T11:19:39.432480Z",
          "start_time": "2017-10-08T11:19:39.420006Z"
        },
        "colab": {
          "base_uri": "https://localhost:8080/"
        },
        "hidden": true,
        "id": "OmrggYvmf9Sw",
        "outputId": "e551c2e6-814c-43ea-9444-20b6a11d077d"
      },
      "outputs": [
        {
          "output_type": "stream",
          "name": "stdout",
          "text": [
            "[[0.26134159 0.68646976]]\n"
          ]
        }
      ],
      "source": [
        "x = x_train_bias\n",
        "y = y_train\n",
        "w_opt = (np.linalg.inv((x.T).dot(x)).dot(x.T)).dot(y)\n",
        "print(w_opt.T)"
      ]
    },
    {
      "cell_type": "code",
      "source": [
        "model.w"
      ],
      "metadata": {
        "colab": {
          "base_uri": "https://localhost:8080/"
        },
        "id": "8H4wFhdpC65R",
        "outputId": "9d97f782-b041-494b-f917-0fcb773a3efd"
      },
      "execution_count": 41,
      "outputs": [
        {
          "output_type": "execute_result",
          "data": {
            "text/plain": [
              "array([[0.26335427, 0.6825824 ]])"
            ]
          },
          "metadata": {},
          "execution_count": 41
        }
      ]
    },
    {
      "cell_type": "markdown",
      "metadata": {
        "heading_collapsed": true,
        "id": "2eMOcW8Ff9Sz"
      },
      "source": [
        "# Exercícios"
      ]
    },
    {
      "cell_type": "markdown",
      "metadata": {
        "hidden": true,
        "id": "tCKeOB1-f9S1"
      },
      "source": [
        "## Questões"
      ]
    },
    {
      "cell_type": "markdown",
      "metadata": {
        "hidden": true,
        "id": "c-KyP13vf9S2"
      },
      "source": [
        "1. Quantos parâmetros são treinados nesse modelo?\n",
        "\n",
        "R.: 2, w0 e w1\n",
        "\n",
        "2. Qual é o número de atributos de entrada para a rede?\n",
        "\n",
        "R.: 2 (bias + x)\n",
        "\n",
        "3. Qual é o número de saídas da rede?\n",
        "\n",
        "R.: 1\n",
        "\n",
        "4. Suponha que eu tenha agora 5 mil amostras para fazer a predição. Qual é o shape da matriz de entrada?\n",
        "   Qual é o shape do matriz de saída?\n",
        "\n",
        "R.: [5000, 2] --> entrada\n",
        "\n",
        "[5000, 1] --> saida\n"
      ]
    },
    {
      "cell_type": "markdown",
      "metadata": {
        "hidden": true,
        "id": "oaj0t2gpf9S3"
      },
      "source": [
        "## Atividades"
      ]
    },
    {
      "cell_type": "markdown",
      "metadata": {
        "hidden": true,
        "id": "pR_fNYurf9S3"
      },
      "source": [
        "1. Modifique o laço do treinamento via gradiente descendente para guardar em uma lista, o valor da perda no final\n",
        "   de cada época. Após o treinamento, plote o valor da perda em função da época.\n",
        "2. Calcule o valor da perda (MSE) da rede com os parâmetros inicializados, sem serem treinados.\n",
        "3. Coloque os valores dos pesos da solução ótima analítica no modelo da rede e calcule o valor da perda (MSE) e\n",
        "   compare com o valor da perda obtida pelo método da otimização via gradiente descendente."
      ]
    },
    {
      "cell_type": "code",
      "source": [
        "model = Net(2,1) #instanciar rede\n",
        "\n",
        "perdas = []\n",
        "num_epochs = 100\n",
        "learning_rate = 0.5\n",
        "for epoch in range(num_epochs):\n",
        "\n",
        "    # forward - predict\n",
        "    y_pred = model.forward(x_train_bias)\n",
        "\n",
        "    #loss cálculo da função de perda\n",
        "    loss = np.square(y_pred - y_train).mean()\n",
        "    perdas.append(loss)\n",
        "\n",
        "    # cálculo do gradiente pelas derivadas parciais\n",
        "    w_grad = (2.0/n_samples) * (x_train_bias.T).dot(x_train_bias.dot(model.w.T) - y_train)\n",
        "\n",
        "    # gradiente descendente\n",
        "    model.w = model.w - learning_rate * w_grad.T\n",
        "\n",
        "    # verbose\n",
        "    if (epoch+1) % 1 == 0:\n",
        "        print('Epoch[{}/{}], loss: {:.6f}'\n",
        "              .format(epoch+1, num_epochs, loss))"
      ],
      "metadata": {
        "colab": {
          "base_uri": "https://localhost:8080/"
        },
        "id": "epP0nR07GLCi",
        "outputId": "7b2bd25c-b70f-4e64-a703-9b05382c15e7"
      },
      "execution_count": 61,
      "outputs": [
        {
          "output_type": "stream",
          "name": "stdout",
          "text": [
            "Epoch[1/100], loss: 0.356342\n",
            "Epoch[2/100], loss: 0.052529\n",
            "Epoch[3/100], loss: 0.031833\n",
            "Epoch[4/100], loss: 0.029689\n",
            "Epoch[5/100], loss: 0.028829\n",
            "Epoch[6/100], loss: 0.028119\n",
            "Epoch[7/100], loss: 0.027478\n",
            "Epoch[8/100], loss: 0.026897\n",
            "Epoch[9/100], loss: 0.026370\n",
            "Epoch[10/100], loss: 0.025891\n",
            "Epoch[11/100], loss: 0.025456\n",
            "Epoch[12/100], loss: 0.025061\n",
            "Epoch[13/100], loss: 0.024703\n",
            "Epoch[14/100], loss: 0.024377\n",
            "Epoch[15/100], loss: 0.024082\n",
            "Epoch[16/100], loss: 0.023814\n",
            "Epoch[17/100], loss: 0.023570\n",
            "Epoch[18/100], loss: 0.023349\n",
            "Epoch[19/100], loss: 0.023148\n",
            "Epoch[20/100], loss: 0.022966\n",
            "Epoch[21/100], loss: 0.022801\n",
            "Epoch[22/100], loss: 0.022650\n",
            "Epoch[23/100], loss: 0.022514\n",
            "Epoch[24/100], loss: 0.022390\n",
            "Epoch[25/100], loss: 0.022278\n",
            "Epoch[26/100], loss: 0.022176\n",
            "Epoch[27/100], loss: 0.022083\n",
            "Epoch[28/100], loss: 0.021999\n",
            "Epoch[29/100], loss: 0.021922\n",
            "Epoch[30/100], loss: 0.021853\n",
            "Epoch[31/100], loss: 0.021790\n",
            "Epoch[32/100], loss: 0.021733\n",
            "Epoch[33/100], loss: 0.021681\n",
            "Epoch[34/100], loss: 0.021634\n",
            "Epoch[35/100], loss: 0.021591\n",
            "Epoch[36/100], loss: 0.021552\n",
            "Epoch[37/100], loss: 0.021517\n",
            "Epoch[38/100], loss: 0.021485\n",
            "Epoch[39/100], loss: 0.021456\n",
            "Epoch[40/100], loss: 0.021430\n",
            "Epoch[41/100], loss: 0.021406\n",
            "Epoch[42/100], loss: 0.021384\n",
            "Epoch[43/100], loss: 0.021364\n",
            "Epoch[44/100], loss: 0.021346\n",
            "Epoch[45/100], loss: 0.021330\n",
            "Epoch[46/100], loss: 0.021315\n",
            "Epoch[47/100], loss: 0.021302\n",
            "Epoch[48/100], loss: 0.021290\n",
            "Epoch[49/100], loss: 0.021278\n",
            "Epoch[50/100], loss: 0.021268\n",
            "Epoch[51/100], loss: 0.021259\n",
            "Epoch[52/100], loss: 0.021251\n",
            "Epoch[53/100], loss: 0.021244\n",
            "Epoch[54/100], loss: 0.021237\n",
            "Epoch[55/100], loss: 0.021230\n",
            "Epoch[56/100], loss: 0.021225\n",
            "Epoch[57/100], loss: 0.021220\n",
            "Epoch[58/100], loss: 0.021215\n",
            "Epoch[59/100], loss: 0.021211\n",
            "Epoch[60/100], loss: 0.021207\n",
            "Epoch[61/100], loss: 0.021204\n",
            "Epoch[62/100], loss: 0.021200\n",
            "Epoch[63/100], loss: 0.021198\n",
            "Epoch[64/100], loss: 0.021195\n",
            "Epoch[65/100], loss: 0.021193\n",
            "Epoch[66/100], loss: 0.021191\n",
            "Epoch[67/100], loss: 0.021189\n",
            "Epoch[68/100], loss: 0.021187\n",
            "Epoch[69/100], loss: 0.021185\n",
            "Epoch[70/100], loss: 0.021184\n",
            "Epoch[71/100], loss: 0.021182\n",
            "Epoch[72/100], loss: 0.021181\n",
            "Epoch[73/100], loss: 0.021180\n",
            "Epoch[74/100], loss: 0.021179\n",
            "Epoch[75/100], loss: 0.021178\n",
            "Epoch[76/100], loss: 0.021177\n",
            "Epoch[77/100], loss: 0.021177\n",
            "Epoch[78/100], loss: 0.021176\n",
            "Epoch[79/100], loss: 0.021175\n",
            "Epoch[80/100], loss: 0.021175\n",
            "Epoch[81/100], loss: 0.021174\n",
            "Epoch[82/100], loss: 0.021174\n",
            "Epoch[83/100], loss: 0.021174\n",
            "Epoch[84/100], loss: 0.021173\n",
            "Epoch[85/100], loss: 0.021173\n",
            "Epoch[86/100], loss: 0.021172\n",
            "Epoch[87/100], loss: 0.021172\n",
            "Epoch[88/100], loss: 0.021172\n",
            "Epoch[89/100], loss: 0.021172\n",
            "Epoch[90/100], loss: 0.021171\n",
            "Epoch[91/100], loss: 0.021171\n",
            "Epoch[92/100], loss: 0.021171\n",
            "Epoch[93/100], loss: 0.021171\n",
            "Epoch[94/100], loss: 0.021171\n",
            "Epoch[95/100], loss: 0.021171\n",
            "Epoch[96/100], loss: 0.021171\n",
            "Epoch[97/100], loss: 0.021170\n",
            "Epoch[98/100], loss: 0.021170\n",
            "Epoch[99/100], loss: 0.021170\n",
            "Epoch[100/100], loss: 0.021170\n"
          ]
        }
      ]
    },
    {
      "cell_type": "code",
      "source": [
        "perdas"
      ],
      "metadata": {
        "id": "cj2mbIjeGqFO"
      },
      "execution_count": null,
      "outputs": []
    },
    {
      "cell_type": "markdown",
      "source": [
        "2)"
      ],
      "metadata": {
        "id": "hYX5yoxnG1XH"
      }
    },
    {
      "cell_type": "code",
      "source": [
        "model = Net(2,1)\n",
        "model.w\n",
        "\n",
        "pred = model.forward(x_train_bias)\n",
        "\n",
        "loss = np.square(pred - y_train).mean()\n",
        "loss"
      ],
      "metadata": {
        "colab": {
          "base_uri": "https://localhost:8080/"
        },
        "id": "xZwnkhuNG6vq",
        "outputId": "e6510a0a-cefb-4cdd-f099-6b61f10fca63"
      },
      "execution_count": 57,
      "outputs": [
        {
          "output_type": "execute_result",
          "data": {
            "text/plain": [
              "0.5579002781758483"
            ]
          },
          "metadata": {},
          "execution_count": 57
        }
      ]
    },
    {
      "cell_type": "markdown",
      "source": [
        "3)"
      ],
      "metadata": {
        "id": "fp4_28KWHah8"
      }
    },
    {
      "cell_type": "code",
      "source": [
        "#solucao otima\n",
        "x = x_train_bias\n",
        "y = y_train\n",
        "w_opt = (np.linalg.inv((x.T).dot(x)).dot(x.T)).dot(y)\n",
        "\n",
        "model.w = w_opt.T\n",
        "\n",
        "pred = model.forward(x_train_bias)\n",
        "\n",
        "loss = np.square(pred - y_train).mean()\n",
        "loss"
      ],
      "metadata": {
        "colab": {
          "base_uri": "https://localhost:8080/"
        },
        "id": "M40u25oPHiTA",
        "outputId": "2770b122-7848-4501-c393-8fc273030431"
      },
      "execution_count": 60,
      "outputs": [
        {
          "output_type": "execute_result",
          "data": {
            "text/plain": [
              "0.021169424119097165"
            ]
          },
          "metadata": {},
          "execution_count": 60
        }
      ]
    },
    {
      "cell_type": "code",
      "source": [
        "0.021170"
      ],
      "metadata": {
        "id": "mJpnywFqH52h"
      },
      "execution_count": null,
      "outputs": []
    },
    {
      "cell_type": "markdown",
      "metadata": {
        "collapsed": true,
        "id": "tgmMhSm2f9S4"
      },
      "source": [
        "# Aprendizados"
      ]
    }
  ],
  "metadata": {
    "accelerator": "TPU",
    "colab": {
      "provenance": []
    },
    "kernelspec": {
      "display_name": "Python 3.10.2 64-bit",
      "language": "python",
      "name": "python3"
    },
    "language_info": {
      "name": "python",
      "version": "3.10.2"
    },
    "vscode": {
      "interpreter": {
        "hash": "5fe3e6f0cdaab8afdc61c52912fda83f7c0a71baaea1897dd7498e2df01e69ec"
      }
    }
  },
  "nbformat": 4,
  "nbformat_minor": 0
}